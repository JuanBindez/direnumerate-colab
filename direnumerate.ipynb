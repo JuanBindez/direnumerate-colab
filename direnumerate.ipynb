{
 "cells": [
  {
   "cell_type": "markdown",
   "metadata": {},
   "source": [
    "### Install"
   ]
  },
  {
   "cell_type": "code",
   "execution_count": null,
   "metadata": {},
   "outputs": [],
   "source": [
    "pip install direnumerate"
   ]
  },
  {
   "cell_type": "markdown",
   "metadata": {},
   "source": [
    "### Directory Scan in Websites"
   ]
  },
  {
   "cell_type": "code",
   "execution_count": null,
   "metadata": {},
   "outputs": [],
   "source": [
    "\n",
    "from direnumerate import DirScan\n",
    "\n",
    "url = \"testphp.vulnweb.com\"\n",
    "wordlist = \"wordlist.txt\"\n",
    "\n",
    "enum = DirScan(url)\n",
    "enum.dir_enum(wordlist)"
   ]
  },
  {
   "cell_type": "markdown",
   "metadata": {},
   "source": [
    "### Port Scan"
   ]
  },
  {
   "cell_type": "code",
   "execution_count": null,
   "metadata": {},
   "outputs": [],
   "source": [
    "\n",
    "from direnumerate import PortScan\n",
    "\n",
    "ip = \"44.228.249.3\"\n",
    "list_ports = [22, 80, 443]\n",
    "\n",
    "scan = PortScan(ip)\n",
    "scan.scan_ports(list_ports)\n"
   ]
  },
  {
   "cell_type": "markdown",
   "metadata": {},
   "source": [
    "### Finds patterns in logs"
   ]
  },
  {
   "cell_type": "code",
   "execution_count": null,
   "metadata": {},
   "outputs": [],
   "source": [
    "\n",
    "from direnumerate import FindPatterns\n",
    "\n",
    "log = \"test.log\"\n",
    "key = \"ERROR\"\n",
    "\n",
    "fp = FindPatterns(log)\n",
    "fp.find_in_log(keyword=key)"
   ]
  },
  {
   "cell_type": "markdown",
   "metadata": {},
   "source": [
    "### IP Info"
   ]
  },
  {
   "cell_type": "code",
   "execution_count": null,
   "metadata": {},
   "outputs": [],
   "source": [
    "\n",
    "from direnumerate import InfoIp\n",
    "\n",
    "ip = \"8.8.8.8\"\n",
    "\n",
    "ipinfo = InfoIp(ip)\n",
    "ipinfo.show_info()\n"
   ]
  }
 ],
 "metadata": {
  "kernelspec": {
   "display_name": "Python 3",
   "language": "python",
   "name": "python3"
  },
  "language_info": {
   "name": "python",
   "version": "3.11.6"
  }
 },
 "nbformat": 4,
 "nbformat_minor": 2
}
